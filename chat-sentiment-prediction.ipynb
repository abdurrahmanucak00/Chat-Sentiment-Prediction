{
 "cells": [
  {
   "cell_type": "code",
   "execution_count": 1,
   "id": "3df304ae",
   "metadata": {
    "_cell_guid": "b1076dfc-b9ad-4769-8c92-a6c4dae69d19",
    "_uuid": "8f2839f25d086af736a60e9eeb907d3b93b6e0e5",
    "execution": {
     "iopub.execute_input": "2025-08-26T23:36:59.127952Z",
     "iopub.status.busy": "2025-08-26T23:36:59.127561Z",
     "iopub.status.idle": "2025-08-26T23:37:01.185657Z",
     "shell.execute_reply": "2025-08-26T23:37:01.184689Z"
    },
    "papermill": {
     "duration": 2.064635,
     "end_time": "2025-08-26T23:37:01.187106",
     "exception": false,
     "start_time": "2025-08-26T23:36:59.122471",
     "status": "completed"
    },
    "tags": []
   },
   "outputs": [
    {
     "name": "stdout",
     "output_type": "stream",
     "text": [
      "/kaggle/input/chat-sentiment-dataset/chat_dataset.csv\n"
     ]
    }
   ],
   "source": [
    "# This Python 3 environment comes with many helpful analytics libraries installed\n",
    "# It is defined by the kaggle/python Docker image: https://github.com/kaggle/docker-python\n",
    "# For example, here's several helpful packages to load\n",
    "\n",
    "import numpy as np # linear algebra\n",
    "import pandas as pd # data processing, CSV file I/O (e.g. pd.read_csv)\n",
    "\n",
    "# Input data files are available in the read-only \"../input/\" directory\n",
    "# For example, running this (by clicking run or pressing Shift+Enter) will list all files under the input directory\n",
    "\n",
    "import os\n",
    "for dirname, _, filenames in os.walk('/kaggle/input'):\n",
    "    for filename in filenames:\n",
    "        print(os.path.join(dirname, filename))\n",
    "\n",
    "# You can write up to 20GB to the current directory (/kaggle/working/) that gets preserved as output when you create a version using \"Save & Run All\" \n",
    "# You can also write temporary files to /kaggle/temp/, but they won't be saved outside of the current session"
   ]
  },
  {
   "cell_type": "code",
   "execution_count": 2,
   "id": "e16d5cab",
   "metadata": {
    "execution": {
     "iopub.execute_input": "2025-08-26T23:37:01.195267Z",
     "iopub.status.busy": "2025-08-26T23:37:01.194821Z",
     "iopub.status.idle": "2025-08-26T23:37:01.221489Z",
     "shell.execute_reply": "2025-08-26T23:37:01.220161Z"
    },
    "papermill": {
     "duration": 0.032777,
     "end_time": "2025-08-26T23:37:01.223635",
     "exception": false,
     "start_time": "2025-08-26T23:37:01.190858",
     "status": "completed"
    },
    "tags": []
   },
   "outputs": [],
   "source": [
    "df=pd.read_csv(\"/kaggle/input/chat-sentiment-dataset/chat_dataset.csv\")"
   ]
  },
  {
   "cell_type": "code",
   "execution_count": 3,
   "id": "f5a1db18",
   "metadata": {
    "execution": {
     "iopub.execute_input": "2025-08-26T23:37:01.231338Z",
     "iopub.status.busy": "2025-08-26T23:37:01.230995Z",
     "iopub.status.idle": "2025-08-26T23:37:01.256653Z",
     "shell.execute_reply": "2025-08-26T23:37:01.255505Z"
    },
    "papermill": {
     "duration": 0.031822,
     "end_time": "2025-08-26T23:37:01.258741",
     "exception": false,
     "start_time": "2025-08-26T23:37:01.226919",
     "status": "completed"
    },
    "tags": []
   },
   "outputs": [
    {
     "data": {
      "text/html": [
       "<div>\n",
       "<style scoped>\n",
       "    .dataframe tbody tr th:only-of-type {\n",
       "        vertical-align: middle;\n",
       "    }\n",
       "\n",
       "    .dataframe tbody tr th {\n",
       "        vertical-align: top;\n",
       "    }\n",
       "\n",
       "    .dataframe thead th {\n",
       "        text-align: right;\n",
       "    }\n",
       "</style>\n",
       "<table border=\"1\" class=\"dataframe\">\n",
       "  <thead>\n",
       "    <tr style=\"text-align: right;\">\n",
       "      <th></th>\n",
       "      <th>message</th>\n",
       "      <th>sentiment</th>\n",
       "    </tr>\n",
       "  </thead>\n",
       "  <tbody>\n",
       "    <tr>\n",
       "      <th>0</th>\n",
       "      <td>I really enjoyed the movie</td>\n",
       "      <td>positive</td>\n",
       "    </tr>\n",
       "    <tr>\n",
       "      <th>1</th>\n",
       "      <td>The food was terrible</td>\n",
       "      <td>negative</td>\n",
       "    </tr>\n",
       "    <tr>\n",
       "      <th>2</th>\n",
       "      <td>I'm not sure how I feel about this</td>\n",
       "      <td>neutral</td>\n",
       "    </tr>\n",
       "    <tr>\n",
       "      <th>3</th>\n",
       "      <td>The service was excellent</td>\n",
       "      <td>positive</td>\n",
       "    </tr>\n",
       "    <tr>\n",
       "      <th>4</th>\n",
       "      <td>I had a bad experience</td>\n",
       "      <td>negative</td>\n",
       "    </tr>\n",
       "  </tbody>\n",
       "</table>\n",
       "</div>"
      ],
      "text/plain": [
       "                              message sentiment\n",
       "0          I really enjoyed the movie  positive\n",
       "1               The food was terrible  negative\n",
       "2  I'm not sure how I feel about this   neutral\n",
       "3           The service was excellent  positive\n",
       "4              I had a bad experience  negative"
      ]
     },
     "execution_count": 3,
     "metadata": {},
     "output_type": "execute_result"
    }
   ],
   "source": [
    "df.head()"
   ]
  },
  {
   "cell_type": "code",
   "execution_count": 4,
   "id": "84ec59d1",
   "metadata": {
    "execution": {
     "iopub.execute_input": "2025-08-26T23:37:01.267419Z",
     "iopub.status.busy": "2025-08-26T23:37:01.267041Z",
     "iopub.status.idle": "2025-08-26T23:37:01.299402Z",
     "shell.execute_reply": "2025-08-26T23:37:01.298269Z"
    },
    "papermill": {
     "duration": 0.038338,
     "end_time": "2025-08-26T23:37:01.301030",
     "exception": false,
     "start_time": "2025-08-26T23:37:01.262692",
     "status": "completed"
    },
    "tags": []
   },
   "outputs": [
    {
     "name": "stdout",
     "output_type": "stream",
     "text": [
      "<class 'pandas.core.frame.DataFrame'>\n",
      "RangeIndex: 584 entries, 0 to 583\n",
      "Data columns (total 2 columns):\n",
      " #   Column     Non-Null Count  Dtype \n",
      "---  ------     --------------  ----- \n",
      " 0   message    584 non-null    object\n",
      " 1   sentiment  584 non-null    object\n",
      "dtypes: object(2)\n",
      "memory usage: 9.3+ KB\n"
     ]
    }
   ],
   "source": [
    "df.info()"
   ]
  },
  {
   "cell_type": "code",
   "execution_count": 5,
   "id": "2889d360",
   "metadata": {
    "execution": {
     "iopub.execute_input": "2025-08-26T23:37:01.309186Z",
     "iopub.status.busy": "2025-08-26T23:37:01.308803Z",
     "iopub.status.idle": "2025-08-26T23:37:01.317107Z",
     "shell.execute_reply": "2025-08-26T23:37:01.316006Z"
    },
    "papermill": {
     "duration": 0.014253,
     "end_time": "2025-08-26T23:37:01.318788",
     "exception": false,
     "start_time": "2025-08-26T23:37:01.304535",
     "status": "completed"
    },
    "tags": []
   },
   "outputs": [
    {
     "data": {
      "text/plain": [
       "sentiment\n",
       "neutral     259\n",
       "positive    178\n",
       "negative    147\n",
       "Name: count, dtype: int64"
      ]
     },
     "execution_count": 5,
     "metadata": {},
     "output_type": "execute_result"
    }
   ],
   "source": [
    "df[\"sentiment\"].value_counts()"
   ]
  },
  {
   "cell_type": "code",
   "execution_count": 6,
   "id": "19dbbb40",
   "metadata": {
    "execution": {
     "iopub.execute_input": "2025-08-26T23:37:01.327439Z",
     "iopub.status.busy": "2025-08-26T23:37:01.326553Z",
     "iopub.status.idle": "2025-08-26T23:37:01.339618Z",
     "shell.execute_reply": "2025-08-26T23:37:01.338722Z"
    },
    "papermill": {
     "duration": 0.018793,
     "end_time": "2025-08-26T23:37:01.341036",
     "exception": false,
     "start_time": "2025-08-26T23:37:01.322243",
     "status": "completed"
    },
    "tags": []
   },
   "outputs": [
    {
     "data": {
      "text/html": [
       "<div>\n",
       "<style scoped>\n",
       "    .dataframe tbody tr th:only-of-type {\n",
       "        vertical-align: middle;\n",
       "    }\n",
       "\n",
       "    .dataframe tbody tr th {\n",
       "        vertical-align: top;\n",
       "    }\n",
       "\n",
       "    .dataframe thead th {\n",
       "        text-align: right;\n",
       "    }\n",
       "</style>\n",
       "<table border=\"1\" class=\"dataframe\">\n",
       "  <thead>\n",
       "    <tr style=\"text-align: right;\">\n",
       "      <th></th>\n",
       "      <th>message</th>\n",
       "      <th>sentiment</th>\n",
       "    </tr>\n",
       "  </thead>\n",
       "  <tbody>\n",
       "    <tr>\n",
       "      <th>0</th>\n",
       "      <td>I really enjoyed the movie</td>\n",
       "      <td>positive</td>\n",
       "    </tr>\n",
       "    <tr>\n",
       "      <th>1</th>\n",
       "      <td>The food was terrible</td>\n",
       "      <td>negative</td>\n",
       "    </tr>\n",
       "    <tr>\n",
       "      <th>2</th>\n",
       "      <td>I'm not sure how I feel about this</td>\n",
       "      <td>neutral</td>\n",
       "    </tr>\n",
       "    <tr>\n",
       "      <th>3</th>\n",
       "      <td>The service was excellent</td>\n",
       "      <td>positive</td>\n",
       "    </tr>\n",
       "    <tr>\n",
       "      <th>4</th>\n",
       "      <td>I had a bad experience</td>\n",
       "      <td>negative</td>\n",
       "    </tr>\n",
       "    <tr>\n",
       "      <th>...</th>\n",
       "      <td>...</td>\n",
       "      <td>...</td>\n",
       "    </tr>\n",
       "    <tr>\n",
       "      <th>579</th>\n",
       "      <td>I have to cancel my vacation plans because I c...</td>\n",
       "      <td>negative</td>\n",
       "    </tr>\n",
       "    <tr>\n",
       "      <th>580</th>\n",
       "      <td>My computer crashed and I lost all my importan...</td>\n",
       "      <td>negative</td>\n",
       "    </tr>\n",
       "    <tr>\n",
       "      <th>581</th>\n",
       "      <td>I got into a car accident and my car is totale...</td>\n",
       "      <td>negative</td>\n",
       "    </tr>\n",
       "    <tr>\n",
       "      <th>582</th>\n",
       "      <td>I have a cold and can't stop coughing. it's re...</td>\n",
       "      <td>negative</td>\n",
       "    </tr>\n",
       "    <tr>\n",
       "      <th>583</th>\n",
       "      <td>I just found out my ex is dating someone new. ...</td>\n",
       "      <td>negative</td>\n",
       "    </tr>\n",
       "  </tbody>\n",
       "</table>\n",
       "<p>546 rows × 2 columns</p>\n",
       "</div>"
      ],
      "text/plain": [
       "                                               message sentiment\n",
       "0                           I really enjoyed the movie  positive\n",
       "1                                The food was terrible  negative\n",
       "2                   I'm not sure how I feel about this   neutral\n",
       "3                            The service was excellent  positive\n",
       "4                               I had a bad experience  negative\n",
       "..                                                 ...       ...\n",
       "579  I have to cancel my vacation plans because I c...  negative\n",
       "580  My computer crashed and I lost all my importan...  negative\n",
       "581  I got into a car accident and my car is totale...  negative\n",
       "582  I have a cold and can't stop coughing. it's re...  negative\n",
       "583  I just found out my ex is dating someone new. ...  negative\n",
       "\n",
       "[546 rows x 2 columns]"
      ]
     },
     "execution_count": 6,
     "metadata": {},
     "output_type": "execute_result"
    }
   ],
   "source": [
    "df.drop_duplicates()"
   ]
  },
  {
   "cell_type": "code",
   "execution_count": 7,
   "id": "65d35285",
   "metadata": {
    "execution": {
     "iopub.execute_input": "2025-08-26T23:37:01.349903Z",
     "iopub.status.busy": "2025-08-26T23:37:01.349606Z",
     "iopub.status.idle": "2025-08-26T23:37:07.284982Z",
     "shell.execute_reply": "2025-08-26T23:37:07.284075Z"
    },
    "papermill": {
     "duration": 5.941421,
     "end_time": "2025-08-26T23:37:07.286676",
     "exception": false,
     "start_time": "2025-08-26T23:37:01.345255",
     "status": "completed"
    },
    "tags": []
   },
   "outputs": [],
   "source": [
    "import re\n",
    "import nltk\n",
    "from nltk.corpus import stopwords\n",
    "from nltk.stem import WordNetLemmatizer\n",
    "from nltk.tokenize import word_tokenize\n",
    "\n",
    "stop_words=set(stopwords.words(\"english\"))\n",
    "\n",
    "lemmatizer= WordNetLemmatizer()\n",
    "\n",
    "def preprocess(text):\n",
    "    text = text.lower()   # Küçük harfe çevir\n",
    "    text = re.sub(r'[^\\w\\s]', '', text)   # Noktalama işaretlerini kaldır\n",
    "    text = re.sub(r'\\d+', '', text)   # Sayıları sil\n",
    "    tokens = word_tokenize(text)   # Kelimelere ayır\n",
    "    tokens = [word for word in tokens if word not in stop_words]   # Stopword temizliği\n",
    "    tokens = [lemmatizer.lemmatize(word) for word in tokens]   # Lemmatization(Kelimeleri köklere ayırmak.)\n",
    "    text = ' '.join(tokens)   # Tekrar birleştir\n",
    "    return text.strip() \n",
    "\n",
    "df[\"message\"]=df[\"message\"].apply(preprocess)"
   ]
  },
  {
   "cell_type": "code",
   "execution_count": 8,
   "id": "bcc2ca0c",
   "metadata": {
    "execution": {
     "iopub.execute_input": "2025-08-26T23:37:07.295877Z",
     "iopub.status.busy": "2025-08-26T23:37:07.295397Z",
     "iopub.status.idle": "2025-08-26T23:37:07.300539Z",
     "shell.execute_reply": "2025-08-26T23:37:07.299438Z"
    },
    "papermill": {
     "duration": 0.011633,
     "end_time": "2025-08-26T23:37:07.302058",
     "exception": false,
     "start_time": "2025-08-26T23:37:07.290425",
     "status": "completed"
    },
    "tags": []
   },
   "outputs": [],
   "source": [
    "y=df[\"sentiment\"]\n",
    "x=df[\"message\"]"
   ]
  },
  {
   "cell_type": "code",
   "execution_count": 9,
   "id": "15eef586",
   "metadata": {
    "execution": {
     "iopub.execute_input": "2025-08-26T23:37:07.310603Z",
     "iopub.status.busy": "2025-08-26T23:37:07.310276Z",
     "iopub.status.idle": "2025-08-26T23:37:07.343904Z",
     "shell.execute_reply": "2025-08-26T23:37:07.343138Z"
    },
    "papermill": {
     "duration": 0.039967,
     "end_time": "2025-08-26T23:37:07.345678",
     "exception": false,
     "start_time": "2025-08-26T23:37:07.305711",
     "status": "completed"
    },
    "tags": []
   },
   "outputs": [],
   "source": [
    "from sklearn.feature_extraction.text import TfidfVectorizer\n",
    "\n",
    "tfidf=TfidfVectorizer(max_features=100)\n",
    "\n",
    "\n",
    "x=tfidf.fit_transform(x)"
   ]
  },
  {
   "cell_type": "code",
   "execution_count": 10,
   "id": "7cdb6c64",
   "metadata": {
    "execution": {
     "iopub.execute_input": "2025-08-26T23:37:07.354128Z",
     "iopub.status.busy": "2025-08-26T23:37:07.353806Z",
     "iopub.status.idle": "2025-08-26T23:37:07.362576Z",
     "shell.execute_reply": "2025-08-26T23:37:07.361610Z"
    },
    "papermill": {
     "duration": 0.014807,
     "end_time": "2025-08-26T23:37:07.364135",
     "exception": false,
     "start_time": "2025-08-26T23:37:07.349328",
     "status": "completed"
    },
    "tags": []
   },
   "outputs": [
    {
     "data": {
      "text/html": [
       "<div>\n",
       "<style scoped>\n",
       "    .dataframe tbody tr th:only-of-type {\n",
       "        vertical-align: middle;\n",
       "    }\n",
       "\n",
       "    .dataframe tbody tr th {\n",
       "        vertical-align: top;\n",
       "    }\n",
       "\n",
       "    .dataframe thead th {\n",
       "        text-align: right;\n",
       "    }\n",
       "</style>\n",
       "<table border=\"1\" class=\"dataframe\">\n",
       "  <thead>\n",
       "    <tr style=\"text-align: right;\">\n",
       "      <th></th>\n",
       "      <th>message</th>\n",
       "      <th>sentiment</th>\n",
       "    </tr>\n",
       "  </thead>\n",
       "  <tbody>\n",
       "    <tr>\n",
       "      <th>0</th>\n",
       "      <td>really enjoyed movie</td>\n",
       "      <td>positive</td>\n",
       "    </tr>\n",
       "    <tr>\n",
       "      <th>1</th>\n",
       "      <td>food terrible</td>\n",
       "      <td>negative</td>\n",
       "    </tr>\n",
       "    <tr>\n",
       "      <th>2</th>\n",
       "      <td>im sure feel</td>\n",
       "      <td>neutral</td>\n",
       "    </tr>\n",
       "    <tr>\n",
       "      <th>3</th>\n",
       "      <td>service excellent</td>\n",
       "      <td>positive</td>\n",
       "    </tr>\n",
       "    <tr>\n",
       "      <th>4</th>\n",
       "      <td>bad experience</td>\n",
       "      <td>negative</td>\n",
       "    </tr>\n",
       "  </tbody>\n",
       "</table>\n",
       "</div>"
      ],
      "text/plain": [
       "                message sentiment\n",
       "0  really enjoyed movie  positive\n",
       "1         food terrible  negative\n",
       "2          im sure feel   neutral\n",
       "3     service excellent  positive\n",
       "4        bad experience  negative"
      ]
     },
     "execution_count": 10,
     "metadata": {},
     "output_type": "execute_result"
    }
   ],
   "source": [
    "df.head()"
   ]
  },
  {
   "cell_type": "code",
   "execution_count": 11,
   "id": "9d4c35bf",
   "metadata": {
    "execution": {
     "iopub.execute_input": "2025-08-26T23:37:07.373311Z",
     "iopub.status.busy": "2025-08-26T23:37:07.372942Z",
     "iopub.status.idle": "2025-08-26T23:37:07.396278Z",
     "shell.execute_reply": "2025-08-26T23:37:07.395237Z"
    },
    "papermill": {
     "duration": 0.030049,
     "end_time": "2025-08-26T23:37:07.398414",
     "exception": false,
     "start_time": "2025-08-26T23:37:07.368365",
     "status": "completed"
    },
    "tags": []
   },
   "outputs": [
    {
     "name": "stdout",
     "output_type": "stream",
     "text": [
      "0.8201284796573876\n",
      "0.7863247863247863\n"
     ]
    }
   ],
   "source": [
    "from sklearn.naive_bayes import MultinomialNB\n",
    "from sklearn.model_selection import train_test_split\n",
    "\n",
    "train_x,val_x,train_y,val_y=train_test_split(x,y,test_size=0.2,random_state=42)\n",
    "\n",
    "mnb=MultinomialNB(alpha=0.5)\n",
    "\n",
    "model=mnb.fit(train_x,train_y)\n",
    "\n",
    "print(model.score(train_x,train_y))\n",
    "print(model.score(val_x,val_y))"
   ]
  },
  {
   "cell_type": "code",
   "execution_count": 12,
   "id": "6a8342bf",
   "metadata": {
    "execution": {
     "iopub.execute_input": "2025-08-26T23:37:07.407320Z",
     "iopub.status.busy": "2025-08-26T23:37:07.406979Z",
     "iopub.status.idle": "2025-08-26T23:37:07.423964Z",
     "shell.execute_reply": "2025-08-26T23:37:07.422620Z"
    },
    "papermill": {
     "duration": 0.02322,
     "end_time": "2025-08-26T23:37:07.425721",
     "exception": false,
     "start_time": "2025-08-26T23:37:07.402501",
     "status": "completed"
    },
    "tags": []
   },
   "outputs": [
    {
     "name": "stdout",
     "output_type": "stream",
     "text": [
      "0.7863247863247863\n",
      "              precision    recall  f1-score   support\n",
      "\n",
      "    negative       0.93      0.47      0.62        30\n",
      "     neutral       0.75      0.96      0.85        54\n",
      "    positive       0.79      0.79      0.79        33\n",
      "\n",
      "    accuracy                           0.79       117\n",
      "   macro avg       0.82      0.74      0.75       117\n",
      "weighted avg       0.81      0.79      0.77       117\n",
      "\n",
      "[[14 11  5]\n",
      " [ 0 52  2]\n",
      " [ 1  6 26]]\n"
     ]
    }
   ],
   "source": [
    "from sklearn.metrics import accuracy_score, confusion_matrix, classification_report\n",
    "\n",
    "y_pred=model.predict(val_x)\n",
    "\n",
    "print(accuracy_score(val_y,y_pred))\n",
    "print(classification_report(val_y, y_pred))\n",
    "print(confusion_matrix(val_y, y_pred))"
   ]
  },
  {
   "cell_type": "code",
   "execution_count": 13,
   "id": "335320fd",
   "metadata": {
    "execution": {
     "iopub.execute_input": "2025-08-26T23:37:07.435506Z",
     "iopub.status.busy": "2025-08-26T23:37:07.435188Z",
     "iopub.status.idle": "2025-08-26T23:37:08.315486Z",
     "shell.execute_reply": "2025-08-26T23:37:08.314396Z"
    },
    "papermill": {
     "duration": 0.886547,
     "end_time": "2025-08-26T23:37:08.317059",
     "exception": false,
     "start_time": "2025-08-26T23:37:07.430512",
     "status": "completed"
    },
    "tags": []
   },
   "outputs": [
    {
     "data": {
      "image/png": "[encoded data removed]",
      "text/plain": [
       "<Figure size 600x500 with 2 Axes>"
      ]
     },
     "metadata": {},
     "output_type": "display_data"
    }
   ],
   "source": [
    "import matplotlib.pyplot as plt\n",
    "import seaborn as sns\n",
    "\n",
    "cm = confusion_matrix(val_y, y_pred)\n",
    "\n",
    "\n",
    "plt.figure(figsize=(6,5))\n",
    "sns.heatmap(cm, annot=True, fmt='d', cmap='Blues', xticklabels=['negative','neutral','positive'], yticklabels=['negative','neutral','positive'])\n",
    "plt.xlabel(\"Predicted\")\n",
    "plt.ylabel(\"Actual\")\n",
    "plt.title(\"Confusion Matrix\")\n",
    "plt.show()"
   ]
  }
 ],
 "metadata": {
  "kaggle": {
   "accelerator": "none",
   "dataSources": [
    {
     "datasetId": 3032450,
     "sourceId": 5213244,
     "sourceType": "datasetVersion"
    }
   ],
   "dockerImageVersionId": 31089,
   "isGpuEnabled": false,
   "isInternetEnabled": true,
   "language": "python",
   "sourceType": "notebook"
  },
  "kernelspec": {
   "display_name": "Python 3",
   "language": "python",
   "name": "python3"
  },
  "language_info": {
   "codemirror_mode": {
    "name": "ipython",
    "version": 3
   },
   "file_extension": ".py",
   "mimetype": "text/x-python",
   "name": "python",
   "nbconvert_exporter": "python",
   "pygments_lexer": "ipython3",
   "version": "3.11.13"
  },
  "papermill": {
   "default_parameters": {},
   "duration": 16.074787,
   "end_time": "2025-08-26T23:37:09.544569",
   "environment_variables": {},
   "exception": null,
   "input_path": "__notebook__.ipynb",
   "output_path": "__notebook__.ipynb",
   "parameters": {},
   "start_time": "2025-08-26T23:36:53.469782",
   "version": "2.6.0"
  }
 },
 "nbformat": 4,
 "nbformat_minor": 5
}
